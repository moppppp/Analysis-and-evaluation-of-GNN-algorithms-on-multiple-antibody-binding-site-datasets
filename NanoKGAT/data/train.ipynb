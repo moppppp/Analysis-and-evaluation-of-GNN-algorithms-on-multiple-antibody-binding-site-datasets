{
 "cells": [
  {
   "cell_type": "markdown",
   "metadata": {},
   "source": [
    "## import"
   ]
  },
  {
   "cell_type": "code",
   "execution_count": 2,
   "metadata": {},
   "outputs": [
    {
     "name": "stdout",
     "output_type": "stream",
     "text": [
      "2.4.1+cu121\n",
      "0\n",
      "0\n"
     ]
    }
   ],
   "source": [
    "\n",
    "import torch\n",
    "print(torch.__version__)\n",
    "import torch\n",
    "print(torch.cuda.memory_allocated())\n",
    "print(torch.cuda.memory_reserved()) #版本2.4.1 出现2541有关的数字代表的是241 "
   ]
  },
  {
   "cell_type": "code",
   "execution_count": 3,
   "metadata": {},
   "outputs": [
    {
     "name": "stdout",
     "output_type": "stream",
     "text": [
      "True\n",
      "12.1\n"
     ]
    }
   ],
   "source": [
    "import torch\n",
    "print(torch.cuda.is_available())\n",
    "print(torch.version.cuda)\n"
   ]
  },
  {
   "cell_type": "code",
   "execution_count": 4,
   "metadata": {},
   "outputs": [
    {
     "name": "stderr",
     "output_type": "stream",
     "text": [
      "/public/home/wangxin5/miniconda3/envs/torch2541/lib/python3.9/site-packages/torch_geometric/typing.py:68: UserWarning: An issue occurred while importing 'pyg-lib'. Disabling its usage. Stacktrace: /lib64/libm.so.6: version `GLIBC_2.27' not found (required by /public/home/wangxin5/miniconda3/envs/torch2541/lib/python3.9/site-packages/libpyg.so)\n",
      "  warnings.warn(f\"An issue occurred while importing 'pyg-lib'. \"\n",
      "/public/home/wangxin5/miniconda3/envs/torch2541/lib/python3.9/site-packages/torch_geometric/typing.py:124: UserWarning: An issue occurred while importing 'torch-sparse'. Disabling its usage. Stacktrace: /lib64/libm.so.6: version `GLIBC_2.27' not found (required by /public/home/wangxin5/miniconda3/envs/torch2541/lib/python3.9/site-packages/libpyg.so)\n",
      "  warnings.warn(f\"An issue occurred while importing 'torch-sparse'. \"\n",
      "/public/home/wangxin5/miniconda3/envs/torch2541/lib/python3.9/site-packages/tqdm/auto.py:21: TqdmWarning: IProgress not found. Please update jupyter and ipywidgets. See https://ipywidgets.readthedocs.io/en/stable/user_install.html\n",
      "  from .autonotebook import tqdm as notebook_tqdm\n"
     ]
    }
   ],
   "source": [
    "from torch_geometric.data import Data\n",
    "from torch_geometric.data import DataLoader\n",
    "from torch_geometric.nn import GATConv\n",
    "from torch_cluster import knn"
   ]
  },
  {
   "cell_type": "code",
   "execution_count": 5,
   "metadata": {},
   "outputs": [
    {
     "name": "stdout",
     "output_type": "stream",
     "text": [
      "当前工作目录: /public/home/wangxin5\n",
      "['/public/home/wangxin5', '/public/home/wangxin5/miniconda3/envs/torch2541/lib/python39.zip', '/public/home/wangxin5/miniconda3/envs/torch2541/lib/python3.9', '/public/home/wangxin5/miniconda3/envs/torch2541/lib/python3.9/lib-dynload', '', '/public/home/wangxin5/miniconda3/envs/torch2541/lib/python3.9/site-packages', '/public/home/wangxin5/miniconda3/envs/torch2541/lib/python3.9/site-packages/setuptools/_vendor']\n",
      "['/public/home/wangxin5', '/public/home/wangxin5/miniconda3/envs/torch2541/lib/python39.zip', '/public/home/wangxin5/miniconda3/envs/torch2541/lib/python3.9', '/public/home/wangxin5/miniconda3/envs/torch2541/lib/python3.9/lib-dynload', '', '/public/home/wangxin5/miniconda3/envs/torch2541/lib/python3.9/site-packages', '/public/home/wangxin5/miniconda3/envs/torch2541/lib/python3.9/site-packages/setuptools/_vendor', '/public/home/wangxin5/NanoKGAT/NanoKGAT-main/NanoKGAT-main/NanoKGAT/data', '/public/home/wangxin5/NanoKGAT/NanoKGAT-main/NanoKGAT-main/NanoKGAT']\n"
     ]
    }
   ],
   "source": [
    "import os\n",
    "print(\"当前工作目录:\", os.getcwd())\n",
    "import sys\n",
    "print(sys.path)  # 检查是否包含.ipynb所在目录\n",
    "import sys, os\n",
    "sys.path.append(os.path.abspath(\"/public/home/wangxin5/NanoKGAT/NanoKGAT-main/NanoKGAT-main/NanoKGAT/data\"))  # 添加当前目录\n",
    "import sys, os\n",
    "sys.path.append(os.path.abspath(\"/public/home/wangxin5/NanoKGAT/NanoKGAT-main/NanoKGAT-main/NanoKGAT\"))  # 添加当前目录\n",
    "import sys\n",
    "print(sys.path)  # 检查是否包含.ipynb所在目录"
   ]
  },
  {
   "cell_type": "code",
   "execution_count": 6,
   "metadata": {},
   "outputs": [],
   "source": [
    "import os\n",
    "import pandas as pd\n",
    "import numpy as np\n",
    "from tqdm import tqdm\n",
    "\n",
    "import torch\n",
    "from torch import nn\n",
    "import torch.nn.functional as F\n",
    "import torch.optim as optim\n",
    "from torch.optim.lr_scheduler import StepLR\n",
    "from sklearn.metrics import classification_report\n",
    "\n",
    "from antiberty import AntiBERTyRunner\n",
    "\n",
    "\n",
    "from utils import set_coord\n",
    "k=8"
   ]
  },
  {
   "cell_type": "code",
   "execution_count": 7,
   "metadata": {},
   "outputs": [],
   "source": [
    "import pandas as pd\n",
    "import pickle\n",
    "# 加载 Parquet 文件\n",
    "\n",
    "loaded_train = pd.read_parquet(\"/public/home/wangxin5/NanoKGAT/NanoKGAT-main/NanoKGAT-main/NanoKGAT/data/parquet/train_processed_serialized.parquet\")\n",
    "# 反序列化 'coord' 列\n",
    "loaded_train['coord'] = loaded_train['coord'].apply(lambda x: pickle.loads(x) if isinstance(x, bytes) else [])\n",
    "# 加载 Parquet 文件\n",
    "loaded_val = pd.read_parquet(\"/public/home/wangxin5/NanoKGAT/NanoKGAT-main/NanoKGAT-main/NanoKGAT/data/parquet/val_processed_serialized.parquet\")\n",
    "# 反序列化 'coord' 列\n",
    "loaded_val['coord'] = loaded_val['coord'].apply(lambda x: pickle.loads(x) if isinstance(x, bytes) else [])\n",
    "# 加载 Parquet 文件\n",
    "loaded_test = pd.read_parquet(\"/public/home/wangxin5/NanoKGAT/NanoKGAT-main/NanoKGAT-main/NanoKGAT/data/parquet/test_processed_serialized.parquet\")\n",
    "# 反序列化 'coord' 列\n",
    "loaded_test['coord'] = loaded_test['coord'].apply(lambda x: pickle.loads(x) if isinstance(x, bytes) else [])"
   ]
  },
  {
   "cell_type": "code",
   "execution_count": 8,
   "metadata": {},
   "outputs": [
    {
     "data": {
      "text/plain": [
       "0       [[20.429000854492188, 24.52899932861328, -1.64...\n",
       "1       [[-50.444000244140625, 69.47200012207031, -28....\n",
       "2       [[53.52899932861328, 48.84299850463867, 78.050...\n",
       "3       [[-7.09499979019165, -11.586999893188477, 77.9...\n",
       "4       [[92.60299682617188, 47.70800018310547, -44.73...\n",
       "                              ...                        \n",
       "6880    [[208.1649932861328, 196.677001953125, 282.261...\n",
       "6881    [[82.03099822998047, 137.75900268554688, 260.2...\n",
       "6882    [[122.9990005493164, 112.15799713134766, 91.34...\n",
       "6883    [[201.54600524902344, 153.8459930419922, 215.5...\n",
       "6884    [[143.36099243164062, 116.68699645996094, 133....\n",
       "Name: coord, Length: 6885, dtype: object"
      ]
     },
     "execution_count": 8,
     "metadata": {},
     "output_type": "execute_result"
    }
   ],
   "source": [
    "loaded_train['coord']"
   ]
  },
  {
   "cell_type": "code",
   "execution_count": 9,
   "metadata": {},
   "outputs": [
    {
     "name": "stderr",
     "output_type": "stream",
     "text": [
      "6885it [43:24,  2.64it/s]\n",
      "496it [03:04,  2.69it/s]\n",
      "581it [03:36,  2.69it/s]\n"
     ]
    }
   ],
   "source": [
    "def make_data(df):\n",
    "    \n",
    "    dataset = []\n",
    "    for seq,label,coord in tqdm(zip(df['sequence'],df['paratope_labels'],df['coord'])):\n",
    "        seq = [seq]\n",
    "        size = len(seq[0])\n",
    "\n",
    "        # 生成 0/1 列表\n",
    "        binary_list = [1 if lbl == 'P' else 0 for lbl in label]\n",
    "\n",
    "\n",
    "        # 使用 np.pad 进行填充\n",
    "        if len(binary_list) < 140:\n",
    "            pad_length = 140 - len(binary_list)\n",
    "            binary_list = np.pad(binary_list, (0, pad_length), 'constant', constant_values=0)\n",
    "        elif len(binary_list) > 140:\n",
    "            binary_list = binary_list[:140]\n",
    "\n",
    "        # 转为张量\n",
    "        label_tensor = torch.tensor(binary_list, dtype=torch.long)\n",
    "\n",
    "        coord = torch.tensor(coord)\n",
    "        \n",
    "        Antiberty = AntiBERTyRunner()\n",
    "        embeddings = Antiberty.embed(seq)[0][1:-1]\n",
    "\n",
    "        if size<140:\n",
    "            pad = torch.zeros((140-size),512).cuda()\n",
    "            embeddings =torch.cat([embeddings,pad],dim=0)\n",
    "        elif size > 140:\n",
    "            embeddings = embeddings[:140].cuda()  # 截断超长部分\n",
    "        \n",
    "            \n",
    "        edge_index = knn(coord,coord,k = k)\n",
    "        data = Data(x = embeddings, y= label_tensor,edge_index=edge_index,mask=size)\n",
    "        dataset.append(data)\n",
    "        \n",
    "    return dataset\n",
    "\n",
    "\n",
    "train_dataset = make_data(loaded_train[:])\n",
    "test_dataset = make_data(loaded_test[:])\n",
    "val_dataset = make_data(loaded_val[:])\n",
    "\n",
    "\n",
    "train_loader = DataLoader(train_dataset, batch_size=8, shuffle=False, drop_last=True) \n",
    "test_loader = DataLoader(test_dataset, batch_size=8, shuffle=False, drop_last=True)\n",
    "val_loader = DataLoader(val_dataset, batch_size=8, shuffle=False, drop_last=True) \n",
    "\n"
   ]
  },
  {
   "cell_type": "code",
   "execution_count": 10,
   "metadata": {},
   "outputs": [
    {
     "name": "stdout",
     "output_type": "stream",
     "text": [
      "Data(x=[140, 512], edge_index=[2, 1120], y=[140], mask=122)\n",
      "样本目标形状: torch.Size([140, 512])\n"
     ]
    }
   ],
   "source": [
    "sample = train_dataset[0]\n",
    "print(sample)\n",
    "print(\"样本目标形状:\", sample.x.shape) "
   ]
  },
  {
   "cell_type": "code",
   "execution_count": 11,
   "metadata": {},
   "outputs": [
    {
     "name": "stdout",
     "output_type": "stream",
     "text": [
      "DataBatch(x=[1120, 512], edge_index=[2, 8960], y=[1120], mask=[8], batch=[1120], ptr=[9])\n",
      "Batch目标形状: torch.Size([1120, 512])\n"
     ]
    }
   ],
   "source": [
    "for batch in train_loader:\n",
    "    print(batch)\n",
    "    print(\"Batch目标形状:\", batch.x.shape) \n",
    "    break"
   ]
  },
  {
   "cell_type": "code",
   "execution_count": 12,
   "metadata": {},
   "outputs": [],
   "source": [
    "import matplotlib.pyplot as plt\n",
    "import torch\n",
    "from torch import nn\n",
    "from torch.nn import BatchNorm1d, Linear, Sequential\n",
    "from torch_geometric.nn.conv import EGConv,GATConv\n",
    "from torch.nn import Linear, Dropout,ELU\n",
    "import torch.nn.functional as F"
   ]
  },
  {
   "cell_type": "code",
   "execution_count": 13,
   "metadata": {},
   "outputs": [],
   "source": [
    "class NanoKGAT(torch.nn.Module):\n",
    "    def __init__(self, hidden_channels, num_layers, num_heads, num_bases):\n",
    "        super().__init__()\n",
    "        \n",
    "        aggregators = ['mean','sum','std','max','min',]\n",
    "        \n",
    "        self.Conv1D = nn.Sequential(\n",
    "                nn.Conv1d(hidden_channels,256,5,dilation = 4,padding = 'same'),\n",
    "                nn.BatchNorm1d(256)\n",
    "        ) \n",
    "\n",
    "        self.Conv1D_2 = nn.Sequential(\n",
    "                nn.Conv1d(256,256,5,dilation = 4,padding = 'same'),\n",
    "                nn.BatchNorm1d(256)\n",
    "        ) \n",
    "\n",
    "        self.Conv1D_dilated = nn.Sequential(\n",
    "                nn.Conv1d(256,512,3,dilation = 4,padding = 'same'),\n",
    "                nn.BatchNorm1d(512)\n",
    "        )\n",
    "        self.dropout = Dropout(0.25)\n",
    "\n",
    "        hidden_channels = 512\n",
    "        self.hidden_channels = hidden_channels\n",
    "        self.convs = torch.nn.ModuleList()\n",
    "        self.norms = torch.nn.ModuleList()\n",
    "\n",
    "        self.attention = GATConv(in_channels=512,out_channels=256,heads=2)\n",
    "        self.attention_batch = nn.BatchNorm1d(512)\n",
    "\n",
    "        for _ in range(num_layers):\n",
    "            self.convs.append(\n",
    "                EGConv(hidden_channels, hidden_channels, aggregators,\n",
    "                       num_heads, num_bases))\n",
    "            self.norms.append(BatchNorm1d(hidden_channels))\n",
    "    \n",
    "        self.mlp = Sequential(\n",
    "            Linear(hidden_channels, hidden_channels // 2, bias=False),\n",
    "            BatchNorm1d(hidden_channels // 2),\n",
    "            ELU(inplace=True),\n",
    "            Linear(hidden_channels // 2, hidden_channels // 4, bias=False),\n",
    "            BatchNorm1d(hidden_channels // 4),\n",
    "            ELU(inplace=True),\n",
    "            Linear(hidden_channels // 4, hidden_channels // 8, bias=False),\n",
    "            BatchNorm1d(hidden_channels // 8),\n",
    "            ELU(inplace=True),\n",
    "            Linear(hidden_channels // 8, 1),\n",
    "\n",
    "        )\n",
    "\n",
    "    def forward(self, data):\n",
    "        x, edge_index, batch  = data.x.cuda(), data.edge_index.cuda(), data.batch\n",
    "        batch_size = 8 #此处修改batch_size\n",
    "        x = x.view(-1,140,512).permute(0,2,1)\n",
    "        x1 = F.relu(self.Conv1D(x))\n",
    "        x1 = F.relu(self.Conv1D_2(x1))\n",
    "        x1 = F.relu(self.Conv1D_dilated(x1))\n",
    "        x  = x1 + x\n",
    "        x = x.permute(0,2,1).reshape(140*batch_size,self.hidden_channels)\n",
    "    \n",
    "        for conv, norm in zip(self.convs, self.norms):\n",
    "            h = conv(x, edge_index)\n",
    "            h = norm(h)\n",
    "            h = h.relu_()\n",
    "            x = x + h\n",
    "        x1,attention = self.attention(x,edge_index,return_attention_weights=True)\n",
    "        x = x + self.attention_batch(x1.relu_())\n",
    "        return F.sigmoid(self.mlp(x))"
   ]
  },
  {
   "cell_type": "code",
   "execution_count": 14,
   "metadata": {},
   "outputs": [],
   "source": [
    "def train(model, train_loader, val_loader, epochs, device):\n",
    "    model.to(device)\n",
    "\n",
    "    optimizer = optim.Adam(model.parameters(), lr=0.001)\n",
    "    criterion = nn.BCEWithLogitsLoss()\n",
    "\n",
    "    train_losses = []\n",
    "    val_losses = []\n",
    "\n",
    "    for epoch in range(1, epochs + 1):\n",
    "        model.train()\n",
    "        epoch_loss = 0\n",
    "        for batch in train_loader:\n",
    "            input, target = batch.x, batch.y\n",
    "            batch = batch.to(device)\n",
    "            optimizer.zero_grad()\n",
    "            output = model(batch)\n",
    "            batch.y = batch.y.view(-1, 1).float()\n",
    "            loss = criterion(output, batch.y)\n",
    "            loss.backward()\n",
    "            optimizer.step()\n",
    "            epoch_loss += loss.item()\n",
    "        avg_train_loss = epoch_loss / len(train_loader)\n",
    "        train_losses.append(avg_train_loss)\n",
    "\n",
    "\n",
    "        # 评估\n",
    "        model.eval()\n",
    "        val_loss = 0\n",
    "        with torch.no_grad():\n",
    "            for batch in val_loader:\n",
    "                batch = batch.to(device)\n",
    "                output = model(batch)\n",
    "                batch.y = batch.y.view(-1, 1).float()\n",
    "\n",
    "                loss = criterion(output, batch.y)#.float()\n",
    "                val_loss += loss.item()\n",
    "        avg_val_loss = val_loss / len(val_loader)\n",
    "        val_losses.append(avg_val_loss)\n",
    "\n",
    "        print(f\"Epoch {epoch}/{epochs}, Train Loss: {avg_train_loss:.4f}, Val Loss: {avg_val_loss:.4f}\")\n",
    "\n",
    "    return train_losses, val_losses\n",
    "\n",
    "def plot_losses(train_losses, val_losses, filename):\n",
    "    plt.figure(figsize=(10, 5))\n",
    "    plt.plot(train_losses, label='Training Loss')\n",
    "    plt.plot(val_losses, label='Validation Loss')\n",
    "    plt.xlabel('Epoch')\n",
    "    plt.ylabel('Loss')\n",
    "    plt.title('Training and Validation Loss')\n",
    "    plt.legend()\n",
    "    plt.savefig(filename)\n",
    "    plt.show()\n",
    "\n",
    "def evaluate(model, loader, device):\n",
    "    model.eval()\n",
    "    correct = 0\n",
    "    total = 0\n",
    "    with torch.no_grad():\n",
    "        for batch in loader:\n",
    "            batch = batch.to(device)\n",
    "            output = model(batch)\n",
    "            preds = (output > 0).float()\n",
    "            correct += (preds == batch.y).sum().item()\n",
    "            total += batch.y.size(0)\n",
    "    accuracy = correct / total\n",
    "    return accuracy\n"
   ]
  },
  {
   "cell_type": "code",
   "execution_count": null,
   "metadata": {},
   "outputs": [
    {
     "name": "stdout",
     "output_type": "stream",
     "text": [
      "Using device: cuda:0\n",
      "Epoch 1/20, Train Loss: 0.6968, Val Loss: 0.6846\n",
      "Epoch 2/20, Train Loss: 0.6831, Val Loss: 0.6817\n",
      "Epoch 3/20, Train Loss: 0.6813, Val Loss: 0.6806\n",
      "Epoch 4/20, Train Loss: 0.6801, Val Loss: 0.6793\n",
      "Epoch 5/20, Train Loss: 0.6790, Val Loss: 0.6787\n",
      "Epoch 6/20, Train Loss: 0.6778, Val Loss: 0.6774\n",
      "Epoch 7/20, Train Loss: 0.6772, Val Loss: 0.6771\n",
      "Epoch 8/20, Train Loss: 0.6767, Val Loss: 0.6768\n",
      "Epoch 9/20, Train Loss: 0.6759, Val Loss: 0.6758\n",
      "Epoch 10/20, Train Loss: 0.6752, Val Loss: 0.6763\n",
      "Epoch 11/20, Train Loss: 0.6748, Val Loss: 0.6746\n",
      "Epoch 12/20, Train Loss: 0.6741, Val Loss: 0.6747\n",
      "Epoch 13/20, Train Loss: 0.6738, Val Loss: 0.6741\n",
      "Epoch 14/20, Train Loss: 0.6734, Val Loss: 0.6742\n",
      "Epoch 15/20, Train Loss: 0.6733, Val Loss: 0.6736\n",
      "Epoch 16/20, Train Loss: 0.6728, Val Loss: 0.6735\n",
      "Epoch 17/20, Train Loss: 0.6726, Val Loss: 0.6727\n",
      "Epoch 18/20, Train Loss: 0.6722, Val Loss: 0.6726\n",
      "Epoch 19/20, Train Loss: 0.6719, Val Loss: 0.6723\n",
      "Epoch 20/20, Train Loss: 0.6717, Val Loss: 0.6721\n"
     ]
    },
    {
     "data": {
      "image/png": "[encoded data removed]",
      "text/plain": [
       "<Figure size 1000x500 with 1 Axes>"
      ]
     },
     "metadata": {},
     "output_type": "display_data"
    },
    {
     "name": "stdout",
     "output_type": "stream",
     "text": [
      "Test Accuracy: 127.7419\n",
      "模型已保存到 model_weights-epoach20.pth\n",
      "Test Accuracy: 127.7419\n",
      "模型已保存到 model_weights-epoach20.pth\n",
      "Loaded Model Test Accuracy: 127.7419\n",
      "Epoch 1/100, Train Loss: 0.6715, Val Loss: 0.6719\n",
      "Epoch 2/100, Train Loss: 0.6713, Val Loss: 0.6719\n",
      "Epoch 3/100, Train Loss: 0.6714, Val Loss: 0.6718\n",
      "Epoch 4/100, Train Loss: 0.6710, Val Loss: 0.6717\n",
      "Epoch 5/100, Train Loss: 0.6708, Val Loss: 0.6716\n",
      "Epoch 6/100, Train Loss: 0.6707, Val Loss: 0.6715\n",
      "Epoch 7/100, Train Loss: 0.6704, Val Loss: 0.6707\n",
      "Epoch 8/100, Train Loss: 0.6703, Val Loss: 0.6710\n",
      "Epoch 9/100, Train Loss: 0.6701, Val Loss: 0.6703\n",
      "Epoch 10/100, Train Loss: 0.6702, Val Loss: 0.6706\n",
      "Epoch 11/100, Train Loss: 0.6698, Val Loss: 0.6702\n",
      "Epoch 12/100, Train Loss: 0.6695, Val Loss: 0.6705\n",
      "Epoch 13/100, Train Loss: 0.6696, Val Loss: 0.6703\n",
      "Epoch 14/100, Train Loss: 0.6694, Val Loss: 0.6697\n",
      "Epoch 15/100, Train Loss: 0.6692, Val Loss: 0.6700\n",
      "Epoch 16/100, Train Loss: 0.6693, Val Loss: 0.6702\n",
      "Epoch 17/100, Train Loss: 0.6690, Val Loss: 0.6694\n",
      "Epoch 18/100, Train Loss: 0.6690, Val Loss: 0.6696\n",
      "Epoch 19/100, Train Loss: 0.6688, Val Loss: 0.6694\n",
      "Epoch 20/100, Train Loss: 0.6687, Val Loss: 0.6692\n",
      "Epoch 21/100, Train Loss: 0.6687, Val Loss: 0.6694\n",
      "Epoch 22/100, Train Loss: 0.6686, Val Loss: 0.6692\n",
      "Epoch 23/100, Train Loss: 0.6684, Val Loss: 0.6692\n",
      "Epoch 24/100, Train Loss: 0.6683, Val Loss: 0.6687\n",
      "Epoch 25/100, Train Loss: 0.6682, Val Loss: 0.6690\n",
      "Epoch 26/100, Train Loss: 0.6682, Val Loss: 0.6686\n",
      "Epoch 27/100, Train Loss: 0.6680, Val Loss: 0.6685\n",
      "Epoch 28/100, Train Loss: 0.6679, Val Loss: 0.6684\n",
      "Epoch 29/100, Train Loss: 0.6677, Val Loss: 0.6682\n",
      "Epoch 30/100, Train Loss: 0.6677, Val Loss: 0.6683\n",
      "Epoch 31/100, Train Loss: 0.6676, Val Loss: 0.6685\n",
      "Epoch 32/100, Train Loss: 0.6675, Val Loss: 0.6680\n",
      "Epoch 33/100, Train Loss: 0.6674, Val Loss: 0.6678\n",
      "Epoch 34/100, Train Loss: 0.6674, Val Loss: 0.6678\n",
      "Epoch 35/100, Train Loss: 0.6677, Val Loss: 0.6680\n",
      "Epoch 36/100, Train Loss: 0.6673, Val Loss: 0.6684\n",
      "Epoch 37/100, Train Loss: 0.6671, Val Loss: 0.6676\n",
      "Epoch 38/100, Train Loss: 0.6670, Val Loss: 0.6677\n",
      "Epoch 39/100, Train Loss: 0.6671, Val Loss: 0.6678\n",
      "Epoch 40/100, Train Loss: 0.6671, Val Loss: 0.6676\n",
      "Epoch 41/100, Train Loss: 0.6670, Val Loss: 0.6676\n",
      "Epoch 42/100, Train Loss: 0.6668, Val Loss: 0.6675\n",
      "Epoch 43/100, Train Loss: 0.6669, Val Loss: 0.6678\n",
      "Epoch 44/100, Train Loss: 0.6669, Val Loss: 0.6672\n",
      "Epoch 45/100, Train Loss: 0.6668, Val Loss: 0.6672\n",
      "Epoch 46/100, Train Loss: 0.6667, Val Loss: 0.6671\n",
      "Epoch 47/100, Train Loss: 0.6669, Val Loss: 0.6678\n",
      "Epoch 48/100, Train Loss: 0.6669, Val Loss: 0.6674\n",
      "Epoch 49/100, Train Loss: 0.6667, Val Loss: 0.6673\n",
      "Epoch 50/100, Train Loss: 0.6667, Val Loss: 0.6674\n",
      "Epoch 51/100, Train Loss: 0.6666, Val Loss: 0.6670\n",
      "Epoch 52/100, Train Loss: 0.6667, Val Loss: 0.6671\n",
      "Epoch 53/100, Train Loss: 0.6664, Val Loss: 0.6670\n",
      "Epoch 54/100, Train Loss: 0.6665, Val Loss: 0.6670\n",
      "Epoch 55/100, Train Loss: 0.6663, Val Loss: 0.6668\n",
      "Epoch 56/100, Train Loss: 0.6664, Val Loss: 0.6670\n",
      "Epoch 57/100, Train Loss: 0.6662, Val Loss: 0.6666\n",
      "Epoch 58/100, Train Loss: 0.6661, Val Loss: 0.6667\n",
      "Epoch 59/100, Train Loss: 0.6663, Val Loss: 0.6670\n",
      "Epoch 60/100, Train Loss: 0.6661, Val Loss: 0.6670\n",
      "Epoch 61/100, Train Loss: 0.6661, Val Loss: 0.6672\n",
      "Epoch 62/100, Train Loss: 0.6661, Val Loss: 0.6665\n",
      "Epoch 63/100, Train Loss: 0.6660, Val Loss: 0.6663\n",
      "Epoch 64/100, Train Loss: 0.6661, Val Loss: 0.6667\n",
      "Epoch 65/100, Train Loss: 0.6661, Val Loss: 0.6668\n",
      "Epoch 66/100, Train Loss: 0.6660, Val Loss: 0.6668\n",
      "Epoch 67/100, Train Loss: 0.6661, Val Loss: 0.6664\n",
      "Epoch 68/100, Train Loss: 0.6658, Val Loss: 0.6669\n",
      "Epoch 69/100, Train Loss: 0.6658, Val Loss: 0.6664\n",
      "Epoch 70/100, Train Loss: 0.6657, Val Loss: 0.6664\n",
      "Epoch 71/100, Train Loss: 0.6656, Val Loss: 0.6661\n",
      "Epoch 72/100, Train Loss: 0.6657, Val Loss: 0.6664\n",
      "Epoch 73/100, Train Loss: 0.6659, Val Loss: 0.6681\n",
      "Epoch 74/100, Train Loss: 0.6659, Val Loss: 0.6663\n",
      "Epoch 75/100, Train Loss: 0.6655, Val Loss: 0.6661\n",
      "Epoch 76/100, Train Loss: 0.6657, Val Loss: 0.6661\n",
      "Epoch 77/100, Train Loss: 0.6656, Val Loss: 0.6661\n",
      "Epoch 78/100, Train Loss: 0.6655, Val Loss: 0.6661\n",
      "Epoch 79/100, Train Loss: 0.6654, Val Loss: 0.6662\n",
      "Epoch 80/100, Train Loss: 0.6654, Val Loss: 0.6660\n"
     ]
    }
   ],
   "source": [
    "\n",
    "\n",
    "if __name__ == '__main__':\n",
    "\n",
    "    # 设置设备\n",
    "    device = torch.device('cuda:0')\n",
    "\n",
    "    print(f\"Using device: {device}\")  \n",
    "\n",
    "\n",
    "\n",
    "    # 初始化模型\n",
    "    hidden_channels = 512\n",
    "    num_layers = 3\n",
    "    num_heads = 4\n",
    "    num_bases = 4\n",
    "    model = NanoKGAT(hidden_channels, num_layers, num_heads, num_bases)\n",
    "    model.to(device)\n",
    "\n",
    "\n",
    "\n",
    "    # 定义要绘制的 Epoch 列表\n",
    "    epochs_list = [20, 100, 150, 200]\n",
    "    for e in epochs_list:\n",
    "\n",
    "\n",
    "        # 训练模型\n",
    "        train_losses, val_losses = train(model, train_loader, val_loader, epochs=e, device=device)\n",
    "\n",
    "        # 绘制损失曲线\n",
    "        plot_losses(train_losses, val_losses, filename=f'loss_{e}.jpg')\n",
    "\n",
    "        # 评估模型\n",
    "        test_accuracy = evaluate(model, test_loader, device)\n",
    "        print(f\"Test Accuracy: {test_accuracy:.4f}\")\n",
    "\n",
    "        # 保存模型\n",
    "        model_path = f'model_weights-epoach{e}.pth'\n",
    "\n",
    "        torch.save(model.state_dict(), model_path)\n",
    "        print(f\"模型已保存到 {model_path}\")\n",
    "\n",
    "        # 评估、保存和加载模型\n",
    "        test_accuracy = evaluate(model, test_loader, device)\n",
    "        print(f\"Test Accuracy: {test_accuracy:.4f}\")\n",
    "\n",
    "        model_path = f'model_weights-epoach{e}.pth'\n",
    "        torch.save(model.state_dict(), model_path)\n",
    "        print(f\"模型已保存到 {model_path}\")\n",
    "\n",
    "        loaded_model = NanoKGAT(hidden_channels, num_layers, num_heads, num_bases)\n",
    "        loaded_model.load_state_dict(torch.load(model_path))\n",
    "        loaded_model.to(device)\n",
    "        loaded_model.eval()\n",
    "\n",
    "        loaded_accuracy = evaluate(loaded_model, test_loader, device)\n",
    "        print(f\"Loaded Model Test Accuracy: {loaded_accuracy:.4f}\")"
   ]
  }
 ],
 "metadata": {
  "kernelspec": {
   "display_name": "torch2541",
   "language": "python",
   "name": "python3"
  },
  "language_info": {
   "codemirror_mode": {
    "name": "ipython",
    "version": 3
   },
   "file_extension": ".py",
   "mimetype": "text/x-python",
   "name": "python",
   "nbconvert_exporter": "python",
   "pygments_lexer": "ipython3",
   "version": "3.9.21"
  },
  "orig_nbformat": 4
 },
 "nbformat": 4,
 "nbformat_minor": 2
}
